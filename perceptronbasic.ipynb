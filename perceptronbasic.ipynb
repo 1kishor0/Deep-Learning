{
  "nbformat": 4,
  "nbformat_minor": 0,
  "metadata": {
    "colab": {
      "name": "First_LAB_CSE_478.ipynb",
      "provenance": [],
      "include_colab_link": true
    },
    "kernelspec": {
      "name": "python3",
      "display_name": "Python 3"
    },
    "language_info": {
      "name": "python"
    }
  },
  "cells": [
    {
      "cell_type": "markdown",
      "metadata": {
        "id": "view-in-github",
        "colab_type": "text"
      },
      "source": [
        "<a href=\"https://colab.research.google.com/github/1kishor0/perceptron/blob/main/perceptronbasic.ipynb\" target=\"_parent\"><img src=\"https://colab.research.google.com/assets/colab-badge.svg\" alt=\"Open In Colab\"/></a>"
      ]
    },
    {
      "cell_type": "code",
      "execution_count": 1,
      "metadata": {
        "id": "lN2Lgttp76V-"
      },
      "outputs": [],
      "source": [
        "from sklearn.datasets import make_classification"
      ]
    },
    {
      "cell_type": "code",
      "source": [
        "X,y = make_classification(n_samples = 100, n_features = 2,n_informative = 1,\n",
        "                    n_redundant = 0, n_repeated = 0, n_classes = 2, \n",
        "                    n_clusters_per_class = 1,class_sep =10, hypercube = False,\n",
        "                    random_state=69)\n"
      ],
      "metadata": {
        "id": "XIjfrEXQ-QFH"
      },
      "execution_count": null,
      "outputs": []
    },
    {
      "cell_type": "code",
      "source": [
        "X[0:5], y[0:5]"
      ],
      "metadata": {
        "colab": {
          "base_uri": "https://localhost:8080/"
        },
        "id": "jgn4Z9Mf_PQl",
        "outputId": "a5f29894-a7e7-45eb-c0f9-2ca57dd0795e"
      },
      "execution_count": null,
      "outputs": [
        {
          "output_type": "execute_result",
          "data": {
            "text/plain": [
              "(array([[ 3.41355562, -0.44357374],\n",
              "        [-0.90307051, -1.88006492],\n",
              "        [-1.82378303, -0.14233049],\n",
              "        [ 3.36343504, -0.52467429],\n",
              "        [ 4.14202106, -2.46774187]]), array([1, 0, 0, 1, 1]))"
            ]
          },
          "metadata": {},
          "execution_count": 4
        }
      ]
    },
    {
      "cell_type": "code",
      "source": [
        "len(X)"
      ],
      "metadata": {
        "colab": {
          "base_uri": "https://localhost:8080/"
        },
        "id": "4sHKpIlY_QzD",
        "outputId": "bb7b13e5-4293-4f68-af03-4202cc8c027c"
      },
      "execution_count": null,
      "outputs": [
        {
          "output_type": "execute_result",
          "data": {
            "text/plain": [
              "100"
            ]
          },
          "metadata": {},
          "execution_count": 5
        }
      ]
    },
    {
      "cell_type": "code",
      "source": [
        "X.shape"
      ],
      "metadata": {
        "colab": {
          "base_uri": "https://localhost:8080/"
        },
        "id": "ADsp5Lcl__w8",
        "outputId": "7a7fa8b2-bbef-4c39-e90a-c70222db28c9"
      },
      "execution_count": null,
      "outputs": [
        {
          "output_type": "execute_result",
          "data": {
            "text/plain": [
              "(100, 2)"
            ]
          },
          "metadata": {},
          "execution_count": 6
        }
      ]
    },
    {
      "cell_type": "code",
      "source": [
        "y.shape"
      ],
      "metadata": {
        "colab": {
          "base_uri": "https://localhost:8080/"
        },
        "id": "S-cWvygGADjz",
        "outputId": "b1540c80-51ae-4a3f-80e4-7604581e348b"
      },
      "execution_count": null,
      "outputs": [
        {
          "output_type": "execute_result",
          "data": {
            "text/plain": [
              "(100,)"
            ]
          },
          "metadata": {},
          "execution_count": 7
        }
      ]
    },
    {
      "cell_type": "code",
      "source": [
        "import matplotlib.pyplot as plt\n",
        "import numpy as np"
      ],
      "metadata": {
        "id": "Uk2v9u0tAG8z"
      },
      "execution_count": null,
      "outputs": []
    },
    {
      "cell_type": "code",
      "source": [
        "plt.figure(figsize=(10,6))\n",
        "plt.scatter(X[:,0],X[:,1], c=y)\n",
        "plt.show()"
      ],
      "metadata": {
        "colab": {
          "base_uri": "https://localhost:8080/",
          "height": 374
        },
        "id": "Yt_cPl7cAZ0L",
        "outputId": "ad6650f2-e4aa-4b6e-adf4-e1aa9b0218af"
      },
      "execution_count": null,
      "outputs": [
        {
          "output_type": "display_data",
          "data": {
            "text/plain": [
              "<Figure size 720x432 with 1 Axes>"
            ],
            "image/png": "[encoded data removed]"
          },
          "metadata": {
            "needs_background": "light"
          }
        }
      ]
    },
    {
      "cell_type": "code",
      "source": [
        "def perceptron(X,y):\n",
        "  X = np.insert(X,0,1,axis=1)\n",
        "  lr = 0.1\n",
        "  w = np.ones(X.shape[1])\n",
        "\n",
        "\n",
        "  for i in range(1000):\n",
        "    sample= np.random.randint(100)\n",
        "    y_hat = step(np.dot(X[sample],w))\n",
        "    w = w - lr*(y[sample]-y_hat)*X[sample]\n",
        "  return w[0],w[1:]"
      ],
      "metadata": {
        "id": "IOSDoeLgBFOD"
      },
      "execution_count": null,
      "outputs": []
    },
    {
      "cell_type": "code",
      "source": [
        "def step(value):\n",
        "  return 1 if value>=0 else 0"
      ],
      "metadata": {
        "id": "0gXsPvbiEMUK"
      },
      "execution_count": null,
      "outputs": []
    },
    {
      "cell_type": "code",
      "source": [
        "bias, weights = perceptron(X,y)\n",
        "print(f'Bias : {bias}')\n",
        "print(f'Weights : {weights}')"
      ],
      "metadata": {
        "colab": {
          "base_uri": "https://localhost:8080/"
        },
        "id": "p-OisVcaEM4J",
        "outputId": "92c6538c-36af-4276-e217-847b8bd1acfc"
      },
      "execution_count": null,
      "outputs": [
        {
          "output_type": "stream",
          "name": "stdout",
          "text": [
            "Bias : 2.100000000000001\n",
            "Weights : [-177.61620934    8.5105869 ]\n"
          ]
        }
      ]
    },
    {
      "cell_type": "code",
      "source": [
        "m = -(weights[0]/weights[1])\n",
        "b = -(bias/weights[1])\n",
        "print(m,b)"
      ],
      "metadata": {
        "colab": {
          "base_uri": "https://localhost:8080/"
        },
        "id": "OouVl_nKGqLK",
        "outputId": "e0c2ac00-27c4-4696-dbac-2cd06a73b67b"
      },
      "execution_count": null,
      "outputs": [
        {
          "output_type": "stream",
          "name": "stdout",
          "text": [
            "20.87003062860066 -0.24675149009316652\n"
          ]
        }
      ]
    },
    {
      "cell_type": "code",
      "source": [
        "# y = mx+b\n",
        "x_line = np.linspace(-5,3,100)\n",
        "y_line = m*x_line+b\n",
        "\n",
        "plt.figure(figsize=(10,6))\n",
        "plt.scatter(X[:,0],X[:,1], c=y)\n",
        "plt.plot(x_line, y_line,color='red')\n",
        "plt.ylim(-3,3)\n",
        "plt.show()"
      ],
      "metadata": {
        "colab": {
          "base_uri": "https://localhost:8080/",
          "height": 378
        },
        "id": "o-8UEoJNG8BZ",
        "outputId": "d934ae7b-68c8-4991-93e4-2d1d0fdd0a4f"
      },
      "execution_count": null,
      "outputs": [
        {
          "output_type": "display_data",
          "data": {
            "text/plain": [
              "<Figure size 720x432 with 1 Axes>"
            ],
            "image/png": "[encoded data removed]"
          },
          "metadata": {
            "needs_background": "light"
          }
        }
      ]
    },
    {
      "cell_type": "code",
      "source": [],
      "metadata": {
        "id": "9d7QQiLuHb2w"
      },
      "execution_count": null,
      "outputs": []
    }
  ]
}